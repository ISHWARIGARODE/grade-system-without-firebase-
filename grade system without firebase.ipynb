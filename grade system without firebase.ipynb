{
 "cells": [
  {
   "cell_type": "code",
   "execution_count": 1,
   "id": "e8489f96",
   "metadata": {},
   "outputs": [
    {
     "name": "stdout",
     "output_type": "stream",
     "text": [
      "6\n",
      "1.2\n",
      "14\n",
      "2.8\n",
      "23\n",
      "4.6\n",
      "25\n",
      "5.0\n",
      "34\n",
      "6.8\n",
      "fail\n"
     ]
    }
   ],
   "source": [
    "a=int(input(\"enter the mark\"))\n",
    "totalmarks=0\n",
    "for i in range(5):\n",
    "    marks=int(input(\"enter marks{i}\"))\n",
    "    totalmarks +=marks\n",
    "    print(totalmarks)\n",
    "    avg=totalmarks/5\n",
    "    print(avg)\n",
    "if (a>90):\n",
    "   z= \"grade a\"\n",
    "elif(a>80):\n",
    "    z=\"grade b\"\n",
    "elif(a>70):\n",
    "    z=\"grade c\"\n",
    "else:\n",
    "    z=\"fail\"\n",
    "print(z)       \n"
   ]
  }
 ],
 "metadata": {
  "kernelspec": {
   "display_name": "Python 3",
   "language": "python",
   "name": "python3"
  },
  "language_info": {
   "codemirror_mode": {
    "name": "ipython",
    "version": 3
   },
   "file_extension": ".py",
   "mimetype": "text/x-python",
   "name": "python",
   "nbconvert_exporter": "python",
   "pygments_lexer": "ipython3",
   "version": "3.10.11"
  }
 },
 "nbformat": 4,
 "nbformat_minor": 5
}
